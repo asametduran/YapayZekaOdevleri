{
  "nbformat": 4,
  "nbformat_minor": 0,
  "metadata": {
    "colab": {
      "provenance": []
    },
    "kernelspec": {
      "name": "python3",
      "display_name": "Python 3"
    },
    "language_info": {
      "name": "python"
    }
  },
  "cells": [
    {
      "cell_type": "code",
      "execution_count": null,
      "metadata": {
        "colab": {
          "base_uri": "https://localhost:8080/"
        },
        "id": "PD7mEblQxxt3",
        "outputId": "ded5aa5c-7c1b-45e3-a20c-f3245135087c"
      },
      "outputs": [
        {
          "output_type": "stream",
          "name": "stdout",
          "text": [
            "Bir sayı giriniz:10\n",
            "10\n",
            "20\n",
            "30\n",
            "40\n",
            "50\n",
            "60\n",
            "70\n",
            "80\n",
            "90\n",
            "100\n"
          ]
        }
      ],
      "source": [
        "carpimTablosu = int(input(\"Bir sayı giriniz:\"))\n",
        "\n",
        "for i in range(1,11):\n",
        "  print(carpimTablosu*i)"
      ]
    },
    {
      "cell_type": "code",
      "source": [
        "sayi = int(input(\"Bir sayı giriniz:\"))\n",
        "basamakSayisi = 0\n",
        "while sayi > 0:\n",
        "  sayi //= 10\n",
        "  basamakSayisi += 1\n",
        "print(basamakSayisi)"
      ],
      "metadata": {
        "colab": {
          "base_uri": "https://localhost:8080/"
        },
        "id": "fqacWgH8yIxc",
        "outputId": "e15c8e9f-f8e5-4995-a9ee-dc401d0457cb"
      },
      "execution_count": null,
      "outputs": [
        {
          "output_type": "stream",
          "name": "stdout",
          "text": [
            "Bir sayı giriniz:1586345\n",
            "7\n"
          ]
        }
      ]
    },
    {
      "cell_type": "code",
      "source": [
        "sayısalDeğerler = [12, 15, 32, 42, 55, 75, 122, 132, 150, 180, 200]\n",
        "\n",
        "for sayısalDeğerler in sayısalDeğerler:\n",
        "  if sayısalDeğerler > 150:\n",
        "    break\n",
        "  if sayısalDeğerler % 5 == 0:\n",
        "    print(sayısalDeğerler)"
      ],
      "metadata": {
        "colab": {
          "base_uri": "https://localhost:8080/"
        },
        "id": "YaEsltQryVVb",
        "outputId": "884e6851-8f42-4c46-c307-4ea495f362c2"
      },
      "execution_count": null,
      "outputs": [
        {
          "output_type": "stream",
          "name": "stdout",
          "text": [
            "15\n",
            "55\n",
            "75\n",
            "150\n"
          ]
        }
      ]
    },
    {
      "cell_type": "code",
      "source": [
        "# Kullanıcıdan değerleri al\n",
        "a = int(input(\"Başlangıç değeri (a): \"))\n",
        "b = int(input(\"Bitiş değeri (b): \"))\n",
        "c = int(input(\"Bölen değeri (c): \"))\n",
        "\n",
        "# Sayacı başlat\n",
        "count = 0\n",
        "\n",
        "# Aralıktaki sayıları kontrol et\n",
        "for i in range(a, b + 1):  # a ve b dahil olacak şekilde\n",
        "    if i % c == 0:  # c'ye tam bölünebilir mi?\n",
        "        count += 1\n",
        "\n",
        "# Sonucu yazdır\n",
        "print(f\"{a} ile {b} arasında {c}'ye bölünebilen {count} sayı vardır.\")\n"
      ],
      "metadata": {
        "colab": {
          "base_uri": "https://localhost:8080/"
        },
        "id": "emG2Zg6_P28g",
        "outputId": "4b5c7788-26e7-443d-b140-695fbd714821"
      },
      "execution_count": 1,
      "outputs": [
        {
          "output_type": "stream",
          "name": "stdout",
          "text": [
            "Başlangıç değeri (a): 15\n",
            "Bitiş değeri (b): 48\n",
            "Bölen değeri (c): 2\n",
            "15 ile 48 arasında 2'ye bölünebilen 17 sayı vardır.\n"
          ]
        }
      ]
    },
    {
      "cell_type": "code",
      "source": [
        "for i in range(1,101):\n",
        "  j = 100 - i\n",
        "  print(str(i) + \"-\"+ str(j))"
      ],
      "metadata": {
        "colab": {
          "base_uri": "https://localhost:8080/"
        },
        "id": "DCxDfnuoygd6",
        "outputId": "60767f74-ac48-477c-9d12-81e0131f8254"
      },
      "execution_count": null,
      "outputs": [
        {
          "output_type": "stream",
          "name": "stdout",
          "text": [
            "1-99\n",
            "2-98\n",
            "3-97\n",
            "4-96\n",
            "5-95\n",
            "6-94\n",
            "7-93\n",
            "8-92\n",
            "9-91\n",
            "10-90\n",
            "11-89\n",
            "12-88\n",
            "13-87\n",
            "14-86\n",
            "15-85\n",
            "16-84\n",
            "17-83\n",
            "18-82\n",
            "19-81\n",
            "20-80\n",
            "21-79\n",
            "22-78\n",
            "23-77\n",
            "24-76\n",
            "25-75\n",
            "26-74\n",
            "27-73\n",
            "28-72\n",
            "29-71\n",
            "30-70\n",
            "31-69\n",
            "32-68\n",
            "33-67\n",
            "34-66\n",
            "35-65\n",
            "36-64\n",
            "37-63\n",
            "38-62\n",
            "39-61\n",
            "40-60\n",
            "41-59\n",
            "42-58\n",
            "43-57\n",
            "44-56\n",
            "45-55\n",
            "46-54\n",
            "47-53\n",
            "48-52\n",
            "49-51\n",
            "50-50\n",
            "51-49\n",
            "52-48\n",
            "53-47\n",
            "54-46\n",
            "55-45\n",
            "56-44\n",
            "57-43\n",
            "58-42\n",
            "59-41\n",
            "60-40\n",
            "61-39\n",
            "62-38\n",
            "63-37\n",
            "64-36\n",
            "65-35\n",
            "66-34\n",
            "67-33\n",
            "68-32\n",
            "69-31\n",
            "70-30\n",
            "71-29\n",
            "72-28\n",
            "73-27\n",
            "74-26\n",
            "75-25\n",
            "76-24\n",
            "77-23\n",
            "78-22\n",
            "79-21\n",
            "80-20\n",
            "81-19\n",
            "82-18\n",
            "83-17\n",
            "84-16\n",
            "85-15\n",
            "86-14\n",
            "87-13\n",
            "88-12\n",
            "89-11\n",
            "90-10\n",
            "91-9\n",
            "92-8\n",
            "93-7\n",
            "94-6\n",
            "95-5\n",
            "96-4\n",
            "97-3\n",
            "98-2\n",
            "99-1\n",
            "100-0\n"
          ]
        }
      ]
    },
    {
      "cell_type": "code",
      "source": [
        "# Kullanıcıdan IP adresini al\n",
        "ipAddress = input(\"Enter your IP address: \")\n",
        "splittedIP = ipAddress.split(\".\")\n",
        "\n",
        "# Oktetleri integer'a çevir\n",
        "octets = list(map(int, splittedIP))\n",
        "\n",
        "# IP'yi tam bir sayı olarak dönüştür\n",
        "ip_as_number = (octets[0] * (256**3)) + (octets[1] * (256**2)) + (octets[2] * 256) + octets[3]\n",
        "\n",
        "# Sonraki 5 IP adresini hesapla ve yazdır\n",
        "for i in range(1, 6):\n",
        "    next_ip_number = ip_as_number + i\n",
        "    # Tam sayıdan tekrar oktetlere dönüştür\n",
        "    first_octet = (next_ip_number // (256**3)) % 256\n",
        "    second_octet = (next_ip_number // (256**2)) % 256\n",
        "    third_octet = (next_ip_number // 256) % 256\n",
        "    fourth_octet = next_ip_number % 256\n",
        "\n",
        "    # Yeni IP adresini yazdır\n",
        "    print(f\"{first_octet}.{second_octet}.{third_octet}.{fourth_octet}\")\n"
      ],
      "metadata": {
        "id": "W5L-CA32y0cS",
        "colab": {
          "base_uri": "https://localhost:8080/"
        },
        "outputId": "283ad600-737d-475a-caea-8029cdb55d78"
      },
      "execution_count": 2,
      "outputs": [
        {
          "output_type": "stream",
          "name": "stdout",
          "text": [
            "Enter your IP address: 192.168.1.1\n",
            "192.168.1.2\n",
            "192.168.1.3\n",
            "192.168.1.4\n",
            "192.168.1.5\n",
            "192.168.1.6\n"
          ]
        }
      ]
    },
    {
      "cell_type": "code",
      "source": [],
      "metadata": {
        "id": "I3eLMm7pSY0W"
      },
      "execution_count": null,
      "outputs": []
    }
  ]
}