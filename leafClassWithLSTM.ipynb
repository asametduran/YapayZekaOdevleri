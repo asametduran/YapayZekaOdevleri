{
 "cells": [
  {
   "cell_type": "code",
   "execution_count": 17,
   "id": "597849ff-7cd5-40bb-af43-3b574470f915",
   "metadata": {},
   "outputs": [],
   "source": [
    "import numpy as np\n",
    "import pandas as pd"
   ]
  },
  {
   "cell_type": "code",
   "execution_count": 13,
   "id": "2ede3f19-910a-404a-9958-b790c49cb769",
   "metadata": {},
   "outputs": [
    {
     "name": "stdout",
     "output_type": "stream",
     "text": [
      "Requirement already satisfied: pip in c:\\users\\s\\appdata\\roaming\\python\\python312\\site-packages (24.3.1)\n",
      "Requirement already satisfied: setuptools in c:\\users\\s\\appdata\\roaming\\python\\python312\\site-packages (75.6.0)\n"
     ]
    }
   ],
   "source": []
  },
  {
   "cell_type": "code",
   "execution_count": null,
   "id": "009c341f-363e-42e2-b3dc-dd8d0786216c",
   "metadata": {},
   "outputs": [],
   "source": []
  }
 ],
 "metadata": {
  "kernelspec": {
   "display_name": "Python 3 (ipykernel)",
   "language": "python",
   "name": "python3"
  },
  "language_info": {
   "codemirror_mode": {
    "name": "ipython",
    "version": 3
   },
   "file_extension": ".py",
   "mimetype": "text/x-python",
   "name": "python",
   "nbconvert_exporter": "python",
   "pygments_lexer": "ipython3",
   "version": "3.12.4"
  }
 },
 "nbformat": 4,
 "nbformat_minor": 5
}
